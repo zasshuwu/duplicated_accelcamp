{
 "cells": [
  {
   "cell_type": "code",
   "execution_count": 19,
   "metadata": {},
   "outputs": [],
   "source": [
    "from Load import *\n",
    "from SpikeTracker import *\n",
    "from Plotter import *\n",
    "from scipy.signal import resample\n",
    "from MyFunctions import min_lambda\n",
    "import pandas\n",
    "import numpy\n",
    "\n",
    "\n",
    "from unittest import *"
   ]
  },
  {
   "cell_type": "code",
   "execution_count": 10,
   "metadata": {},
   "outputs": [
    {
     "data": {
      "text/plain": [
       "list"
      ]
     },
     "execution_count": 10,
     "metadata": {},
     "output_type": "execute_result"
    }
   ],
   "source": [
    "dataDir = \"../data/2019 06 12/0 degrees/run1/\"\n",
    "ad_accel = [LoadAccelFile(dataDir+\"run1.accel.x2.CSV\")]\n",
    "ad_omega = [Load_Omega(dataDir+\"run1.omega.pasco.csv\")]\n",
    "\n",
    "ad_accel\n",
    "ad_omega\n"
   ]
  },
  {
   "cell_type": "code",
   "execution_count": 14,
   "metadata": {},
   "outputs": [
    {
     "data": {
      "text/plain": [
       "[1, 2, 2, 3, 44, 313, 1678, 2542, 23452345]"
      ]
     },
     "execution_count": 14,
     "metadata": {},
     "output_type": "execute_result"
    }
   ],
   "source": [
    "some_list = [1678,44,3,2,1,2,313,2542,23452345]\n",
    "sorted(some_list)[0:]"
   ]
  },
  {
   "cell_type": "code",
   "execution_count": 24,
   "metadata": {},
   "outputs": [
    {
     "name": "stdout",
     "output_type": "stream",
     "text": [
      "<class 'numpy.ndarray'>\n"
     ]
    },
    {
     "data": {
      "text/plain": [
       "500"
      ]
     },
     "execution_count": 24,
     "metadata": {},
     "output_type": "execute_result"
    }
   ],
   "source": [
    "x = numpy.linspace(0, 3 * np.pi, 500)\n",
    "print(type(x))\n",
    "x\n",
    "len(x)"
   ]
  },
  {
   "cell_type": "code",
   "execution_count": null,
   "metadata": {},
   "outputs": [],
   "source": [
    "y = "
   ]
  }
 ],
 "metadata": {
  "kernelspec": {
   "display_name": "Python 3.7.4 64-bit ('base': conda)",
   "language": "python",
   "name": "python37464bitbaseconda247b8f3f0b984beeae40e62f2bb1c4b9"
  },
  "language_info": {
   "codemirror_mode": {
    "name": "ipython",
    "version": 3
   },
   "file_extension": ".py",
   "mimetype": "text/x-python",
   "name": "python",
   "nbconvert_exporter": "python",
   "pygments_lexer": "ipython3",
   "version": "3.7.4"
  }
 },
 "nbformat": 4,
 "nbformat_minor": 2
}
