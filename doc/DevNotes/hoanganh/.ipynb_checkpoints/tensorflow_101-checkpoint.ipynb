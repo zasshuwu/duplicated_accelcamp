{
 "cells": [
  {
   "cell_type": "markdown",
   "metadata": {
    "colab_type": "text",
    "id": "y7ApRFp28JUy"
   },
   "source": [
    "# Note:\n",
    "Users who installed TensorFlow V2 on their development environment will experience a lot of errors while attempting to execute the codes. It is because its maintainer (big daddy google) updates the syntaxes and structures to (purposefully) wreck your precious little fragile codes (thanks, Obama). This critical compatibility problem can be resolved by explicitly make `conda` install the v1 version or use the workarounds below.\n",
    "\n",
    "## Uninstall and reinstall tensorflow method\n",
    "- Anaconda3:\n",
    "```\n",
    "$ conda remove tensorflow tensorflow-base tensorflow-gpu\n",
    "$ conda install tensorflow-1.15.0\n",
    "```\n",
    "- Pip:\n",
    "depends on how your dev env is setup, you might want to append `sudo -H ` and/or `python -m `, respectively preceeding these commands below \n",
    "```\n",
    "$ pip uninstall tensorflow tensorflow-base tensorflow-gpu\n",
    "$ pip install tensorflow=1.15.0\n",
    "```\n",
    "If you're a dreamer, a high achiever, or a total privileged kid (like me), try *remixing* the code following the template below. Cheers."
   ]
  },
  {
   "cell_type": "code",
   "execution_count": 0,
   "metadata": {
    "colab": {},
    "colab_type": "code",
    "id": "pOBTJXqGjaiu"
   },
   "outputs": [],
   "source": [
    "# run this shit only if you know what you're doing\n",
    "!pip uninstall tensorflow\n",
    "!pip install tensorflow==2.0.0"
   ]
  },
  {
   "cell_type": "code",
   "execution_count": 0,
   "metadata": {
    "colab": {},
    "colab_type": "code",
    "id": "NjGhmyLfkdg9"
   },
   "outputs": [],
   "source": [
    "# mandatory shit\n",
    "import tensorflow as tf"
   ]
  },
  {
   "cell_type": "code",
   "execution_count": 0,
   "metadata": {
    "colab": {
     "base_uri": "https://localhost:8080/",
     "height": 34
    },
    "colab_type": "code",
    "id": "FWXCKYPL6lTM",
    "outputId": "1344ece8-ce6a-4fb0-e976-e02716aa2439"
   },
   "outputs": [
    {
     "name": "stdout",
     "output_type": "stream",
     "text": [
      "Hello world\n"
     ]
    }
   ],
   "source": [
    "# creating a constant WITHIN session instead of outside\n",
    "with tf.compat.v1.Session() as sess:\n",
    "    #run the tf.constant operation in the session\n",
    "    # creating a constant\n",
    "    const = tf.constant(\"Hello world\")\n",
    "    print(sess.run(const).decode())"
   ]
  }
 ],
 "metadata": {
  "colab": {
   "collapsed_sections": [],
   "name": "tensorflow-101.ipynb",
   "provenance": []
  },
  "kernelspec": {
   "display_name": "Python 3",
   "language": "python",
   "name": "python3"
  },
  "language_info": {
   "codemirror_mode": {
    "name": "ipython",
    "version": 3
   },
   "file_extension": ".py",
   "mimetype": "text/x-python",
   "name": "python",
   "nbconvert_exporter": "python",
   "pygments_lexer": "ipython3",
   "version": "3.7.4"
  }
 },
 "nbformat": 4,
 "nbformat_minor": 1
}
